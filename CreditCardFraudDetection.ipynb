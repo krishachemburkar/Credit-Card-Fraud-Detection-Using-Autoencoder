{
  "cells": [
    {
      "cell_type": "code",
      "execution_count": 1,
      "id": "T1q1-nD_eeRz",
      "metadata": {
        "colab": {
          "base_uri": "https://localhost:8080/"
        },
        "id": "T1q1-nD_eeRz",
        "outputId": "0f535ee8-f86d-4ce6-9ee9-d6e04977e5b9"
      },
      "outputs": [
        {
          "name": "stdout",
          "output_type": "stream",
          "text": [
            "Requirement already satisfied: wandb in /usr/local/lib/python3.10/dist-packages (0.18.7)\n",
            "Requirement already satisfied: click!=8.0.0,>=7.1 in /usr/local/lib/python3.10/dist-packages (from wandb) (8.1.7)\n",
            "Requirement already satisfied: docker-pycreds>=0.4.0 in /usr/local/lib/python3.10/dist-packages (from wandb) (0.4.0)\n",
            "Requirement already satisfied: gitpython!=3.1.29,>=1.0.0 in /usr/local/lib/python3.10/dist-packages (from wandb) (3.1.43)\n",
            "Requirement already satisfied: platformdirs in /usr/local/lib/python3.10/dist-packages (from wandb) (4.3.6)\n",
            "Requirement already satisfied: protobuf!=4.21.0,!=5.28.0,<6,>=3.19.0 in /usr/local/lib/python3.10/dist-packages (from wandb) (4.25.5)\n",
            "Requirement already satisfied: psutil>=5.0.0 in /usr/local/lib/python3.10/dist-packages (from wandb) (5.9.5)\n",
            "Requirement already satisfied: pyyaml in /usr/local/lib/python3.10/dist-packages (from wandb) (6.0.2)\n",
            "Requirement already satisfied: requests<3,>=2.0.0 in /usr/local/lib/python3.10/dist-packages (from wandb) (2.32.3)\n",
            "Requirement already satisfied: sentry-sdk>=2.0.0 in /usr/local/lib/python3.10/dist-packages (from wandb) (2.19.2)\n",
            "Requirement already satisfied: setproctitle in /usr/local/lib/python3.10/dist-packages (from wandb) (1.3.4)\n",
            "Requirement already satisfied: setuptools in /usr/local/lib/python3.10/dist-packages (from wandb) (75.1.0)\n",
            "Requirement already satisfied: typing-extensions<5,>=4.4 in /usr/local/lib/python3.10/dist-packages (from wandb) (4.12.2)\n",
            "Requirement already satisfied: six>=1.4.0 in /usr/local/lib/python3.10/dist-packages (from docker-pycreds>=0.4.0->wandb) (1.17.0)\n",
            "Requirement already satisfied: gitdb<5,>=4.0.1 in /usr/local/lib/python3.10/dist-packages (from gitpython!=3.1.29,>=1.0.0->wandb) (4.0.11)\n",
            "Requirement already satisfied: charset-normalizer<4,>=2 in /usr/local/lib/python3.10/dist-packages (from requests<3,>=2.0.0->wandb) (3.4.0)\n",
            "Requirement already satisfied: idna<4,>=2.5 in /usr/local/lib/python3.10/dist-packages (from requests<3,>=2.0.0->wandb) (3.10)\n",
            "Requirement already satisfied: urllib3<3,>=1.21.1 in /usr/local/lib/python3.10/dist-packages (from requests<3,>=2.0.0->wandb) (2.2.3)\n",
            "Requirement already satisfied: certifi>=2017.4.17 in /usr/local/lib/python3.10/dist-packages (from requests<3,>=2.0.0->wandb) (2024.8.30)\n",
            "Requirement already satisfied: smmap<6,>=3.0.1 in /usr/local/lib/python3.10/dist-packages (from gitdb<5,>=4.0.1->gitpython!=3.1.29,>=1.0.0->wandb) (5.0.1)\n"
          ]
        }
      ],
      "source": [
        "!pip install wandb"
      ]
    },
    {
      "cell_type": "code",
      "execution_count": 2,
      "id": "9ccd24fe",
      "metadata": {
        "id": "9ccd24fe"
      },
      "outputs": [],
      "source": [
        "import torch\n",
        "from torch import nn\n",
        "import pandas as pd\n",
        "import numpy as np\n",
        "import torch.optim as optim\n",
        "from torch.utils.data import DataLoader, TensorDataset\n",
        "import wandb"
      ]
    },
    {
      "cell_type": "code",
      "execution_count": 3,
      "id": "b30f9a23",
      "metadata": {
        "id": "b30f9a23"
      },
      "outputs": [],
      "source": [
        "import seaborn as sns\n",
        "import matplotlib.pyplot as plt"
      ]
    },
    {
      "cell_type": "code",
      "execution_count": 4,
      "id": "9b056ce5",
      "metadata": {
        "id": "9b056ce5"
      },
      "outputs": [],
      "source": [
        "from sklearn.model_selection import train_test_split\n",
        "from sklearn.preprocessing import StandardScaler"
      ]
    },
    {
      "cell_type": "code",
      "execution_count": 5,
      "id": "YdnAKrc8ePfe",
      "metadata": {
        "colab": {
          "base_uri": "https://localhost:8080/",
          "height": 160
        },
        "id": "YdnAKrc8ePfe",
        "outputId": "27e7a544-0234-435e-bdb1-12e649e8599a"
      },
      "outputs": [
        {
          "name": "stderr",
          "output_type": "stream",
          "text": [
            "\u001b[34m\u001b[1mwandb\u001b[0m: Using wandb-core as the SDK backend.  Please refer to https://wandb.me/wandb-core for more information.\n",
            "\u001b[34m\u001b[1mwandb\u001b[0m: Currently logged in as: \u001b[33mkrishachemburkar\u001b[0m (\u001b[33mkreeeeesha\u001b[0m). Use \u001b[1m`wandb login --relogin`\u001b[0m to force relogin\n"
          ]
        },
        {
          "data": {
            "text/html": [
              "Tracking run with wandb version 0.18.7"
            ],
            "text/plain": [
              "<IPython.core.display.HTML object>"
            ]
          },
          "metadata": {},
          "output_type": "display_data"
        },
        {
          "data": {
            "text/html": [
              "Run data is saved locally in <code>/content/wandb/run-20241215_091622-kr463oug</code>"
            ],
            "text/plain": [
              "<IPython.core.display.HTML object>"
            ]
          },
          "metadata": {},
          "output_type": "display_data"
        },
        {
          "data": {
            "text/html": [
              "Syncing run <strong><a href='https://wandb.ai/kreeeeesha/Credit%20Card%20Fraud/runs/kr463oug' target=\"_blank\">olive-night-5</a></strong> to <a href='https://wandb.ai/kreeeeesha/Credit%20Card%20Fraud' target=\"_blank\">Weights & Biases</a> (<a href='https://wandb.me/developer-guide' target=\"_blank\">docs</a>)<br/>"
            ],
            "text/plain": [
              "<IPython.core.display.HTML object>"
            ]
          },
          "metadata": {},
          "output_type": "display_data"
        },
        {
          "data": {
            "text/html": [
              " View project at <a href='https://wandb.ai/kreeeeesha/Credit%20Card%20Fraud' target=\"_blank\">https://wandb.ai/kreeeeesha/Credit%20Card%20Fraud</a>"
            ],
            "text/plain": [
              "<IPython.core.display.HTML object>"
            ]
          },
          "metadata": {},
          "output_type": "display_data"
        },
        {
          "data": {
            "text/html": [
              " View run at <a href='https://wandb.ai/kreeeeesha/Credit%20Card%20Fraud/runs/kr463oug' target=\"_blank\">https://wandb.ai/kreeeeesha/Credit%20Card%20Fraud/runs/kr463oug</a>"
            ],
            "text/plain": [
              "<IPython.core.display.HTML object>"
            ]
          },
          "metadata": {},
          "output_type": "display_data"
        },
        {
          "data": {
            "text/html": [
              "<button onClick=\"this.nextSibling.style.display='block';this.style.display='none';\">Display W&B run</button><iframe src='https://wandb.ai/kreeeeesha/Credit%20Card%20Fraud/runs/kr463oug?jupyter=true' style='border:none;width:100%;height:420px;display:none;'></iframe>"
            ],
            "text/plain": [
              "<wandb.sdk.wandb_run.Run at 0x7b63261f9f60>"
            ]
          },
          "execution_count": 5,
          "metadata": {},
          "output_type": "execute_result"
        }
      ],
      "source": [
        "wandb.init(project=\"Credit Card Fraud\", entity=\"kreeeeesha\")  # Replace with your project and username"
      ]
    },
    {
      "cell_type": "code",
      "execution_count": 52,
      "id": "35cd7a5c",
      "metadata": {
        "id": "35cd7a5c"
      },
      "outputs": [],
      "source": [
        "data = pd.read_csv('/content/creditcard.csv')"
      ]
    },
    {
      "cell_type": "code",
      "execution_count": 53,
      "id": "ab66fd45",
      "metadata": {
        "colab": {
          "base_uri": "https://localhost:8080/",
          "height": 255
        },
        "id": "ab66fd45",
        "outputId": "f9884223-e9d3-4e37-8173-e7d0c467a665"
      },
      "outputs": [
        {
          "data": {
            "application/vnd.google.colaboratory.intrinsic+json": {
              "type": "dataframe",
              "variable_name": "data"
            },
            "text/html": [
              "\n",
              "  <div id=\"df-a9728e13-a0ad-4a93-849b-9b6426378fe8\" class=\"colab-df-container\">\n",
              "    <div>\n",
              "<style scoped>\n",
              "    .dataframe tbody tr th:only-of-type {\n",
              "        vertical-align: middle;\n",
              "    }\n",
              "\n",
              "    .dataframe tbody tr th {\n",
              "        vertical-align: top;\n",
              "    }\n",
              "\n",
              "    .dataframe thead th {\n",
              "        text-align: right;\n",
              "    }\n",
              "</style>\n",
              "<table border=\"1\" class=\"dataframe\">\n",
              "  <thead>\n",
              "    <tr style=\"text-align: right;\">\n",
              "      <th></th>\n",
              "      <th>Time</th>\n",
              "      <th>V1</th>\n",
              "      <th>V2</th>\n",
              "      <th>V3</th>\n",
              "      <th>V4</th>\n",
              "      <th>V5</th>\n",
              "      <th>V6</th>\n",
              "      <th>V7</th>\n",
              "      <th>V8</th>\n",
              "      <th>V9</th>\n",
              "      <th>...</th>\n",
              "      <th>V21</th>\n",
              "      <th>V22</th>\n",
              "      <th>V23</th>\n",
              "      <th>V24</th>\n",
              "      <th>V25</th>\n",
              "      <th>V26</th>\n",
              "      <th>V27</th>\n",
              "      <th>V28</th>\n",
              "      <th>Amount</th>\n",
              "      <th>Class</th>\n",
              "    </tr>\n",
              "  </thead>\n",
              "  <tbody>\n",
              "    <tr>\n",
              "      <th>0</th>\n",
              "      <td>0.0</td>\n",
              "      <td>-1.359807</td>\n",
              "      <td>-0.072781</td>\n",
              "      <td>2.536347</td>\n",
              "      <td>1.378155</td>\n",
              "      <td>-0.338321</td>\n",
              "      <td>0.462388</td>\n",
              "      <td>0.239599</td>\n",
              "      <td>0.098698</td>\n",
              "      <td>0.363787</td>\n",
              "      <td>...</td>\n",
              "      <td>-0.018307</td>\n",
              "      <td>0.277838</td>\n",
              "      <td>-0.110474</td>\n",
              "      <td>0.066928</td>\n",
              "      <td>0.128539</td>\n",
              "      <td>-0.189115</td>\n",
              "      <td>0.133558</td>\n",
              "      <td>-0.021053</td>\n",
              "      <td>149.62</td>\n",
              "      <td>0</td>\n",
              "    </tr>\n",
              "    <tr>\n",
              "      <th>1</th>\n",
              "      <td>0.0</td>\n",
              "      <td>1.191857</td>\n",
              "      <td>0.266151</td>\n",
              "      <td>0.166480</td>\n",
              "      <td>0.448154</td>\n",
              "      <td>0.060018</td>\n",
              "      <td>-0.082361</td>\n",
              "      <td>-0.078803</td>\n",
              "      <td>0.085102</td>\n",
              "      <td>-0.255425</td>\n",
              "      <td>...</td>\n",
              "      <td>-0.225775</td>\n",
              "      <td>-0.638672</td>\n",
              "      <td>0.101288</td>\n",
              "      <td>-0.339846</td>\n",
              "      <td>0.167170</td>\n",
              "      <td>0.125895</td>\n",
              "      <td>-0.008983</td>\n",
              "      <td>0.014724</td>\n",
              "      <td>2.69</td>\n",
              "      <td>0</td>\n",
              "    </tr>\n",
              "    <tr>\n",
              "      <th>2</th>\n",
              "      <td>1.0</td>\n",
              "      <td>-1.358354</td>\n",
              "      <td>-1.340163</td>\n",
              "      <td>1.773209</td>\n",
              "      <td>0.379780</td>\n",
              "      <td>-0.503198</td>\n",
              "      <td>1.800499</td>\n",
              "      <td>0.791461</td>\n",
              "      <td>0.247676</td>\n",
              "      <td>-1.514654</td>\n",
              "      <td>...</td>\n",
              "      <td>0.247998</td>\n",
              "      <td>0.771679</td>\n",
              "      <td>0.909412</td>\n",
              "      <td>-0.689281</td>\n",
              "      <td>-0.327642</td>\n",
              "      <td>-0.139097</td>\n",
              "      <td>-0.055353</td>\n",
              "      <td>-0.059752</td>\n",
              "      <td>378.66</td>\n",
              "      <td>0</td>\n",
              "    </tr>\n",
              "    <tr>\n",
              "      <th>3</th>\n",
              "      <td>1.0</td>\n",
              "      <td>-0.966272</td>\n",
              "      <td>-0.185226</td>\n",
              "      <td>1.792993</td>\n",
              "      <td>-0.863291</td>\n",
              "      <td>-0.010309</td>\n",
              "      <td>1.247203</td>\n",
              "      <td>0.237609</td>\n",
              "      <td>0.377436</td>\n",
              "      <td>-1.387024</td>\n",
              "      <td>...</td>\n",
              "      <td>-0.108300</td>\n",
              "      <td>0.005274</td>\n",
              "      <td>-0.190321</td>\n",
              "      <td>-1.175575</td>\n",
              "      <td>0.647376</td>\n",
              "      <td>-0.221929</td>\n",
              "      <td>0.062723</td>\n",
              "      <td>0.061458</td>\n",
              "      <td>123.50</td>\n",
              "      <td>0</td>\n",
              "    </tr>\n",
              "    <tr>\n",
              "      <th>4</th>\n",
              "      <td>2.0</td>\n",
              "      <td>-1.158233</td>\n",
              "      <td>0.877737</td>\n",
              "      <td>1.548718</td>\n",
              "      <td>0.403034</td>\n",
              "      <td>-0.407193</td>\n",
              "      <td>0.095921</td>\n",
              "      <td>0.592941</td>\n",
              "      <td>-0.270533</td>\n",
              "      <td>0.817739</td>\n",
              "      <td>...</td>\n",
              "      <td>-0.009431</td>\n",
              "      <td>0.798278</td>\n",
              "      <td>-0.137458</td>\n",
              "      <td>0.141267</td>\n",
              "      <td>-0.206010</td>\n",
              "      <td>0.502292</td>\n",
              "      <td>0.219422</td>\n",
              "      <td>0.215153</td>\n",
              "      <td>69.99</td>\n",
              "      <td>0</td>\n",
              "    </tr>\n",
              "  </tbody>\n",
              "</table>\n",
              "<p>5 rows × 31 columns</p>\n",
              "</div>\n",
              "    <div class=\"colab-df-buttons\">\n",
              "\n",
              "  <div class=\"colab-df-container\">\n",
              "    <button class=\"colab-df-convert\" onclick=\"convertToInteractive('df-a9728e13-a0ad-4a93-849b-9b6426378fe8')\"\n",
              "            title=\"Convert this dataframe to an interactive table.\"\n",
              "            style=\"display:none;\">\n",
              "\n",
              "  <svg xmlns=\"http://www.w3.org/2000/svg\" height=\"24px\" viewBox=\"0 -960 960 960\">\n",
              "    <path d=\"M120-120v-720h720v720H120Zm60-500h600v-160H180v160Zm220 220h160v-160H400v160Zm0 220h160v-160H400v160ZM180-400h160v-160H180v160Zm440 0h160v-160H620v160ZM180-180h160v-160H180v160Zm440 0h160v-160H620v160Z\"/>\n",
              "  </svg>\n",
              "    </button>\n",
              "\n",
              "  <style>\n",
              "    .colab-df-container {\n",
              "      display:flex;\n",
              "      gap: 12px;\n",
              "    }\n",
              "\n",
              "    .colab-df-convert {\n",
              "      background-color: #E8F0FE;\n",
              "      border: none;\n",
              "      border-radius: 50%;\n",
              "      cursor: pointer;\n",
              "      display: none;\n",
              "      fill: #1967D2;\n",
              "      height: 32px;\n",
              "      padding: 0 0 0 0;\n",
              "      width: 32px;\n",
              "    }\n",
              "\n",
              "    .colab-df-convert:hover {\n",
              "      background-color: #E2EBFA;\n",
              "      box-shadow: 0px 1px 2px rgba(60, 64, 67, 0.3), 0px 1px 3px 1px rgba(60, 64, 67, 0.15);\n",
              "      fill: #174EA6;\n",
              "    }\n",
              "\n",
              "    .colab-df-buttons div {\n",
              "      margin-bottom: 4px;\n",
              "    }\n",
              "\n",
              "    [theme=dark] .colab-df-convert {\n",
              "      background-color: #3B4455;\n",
              "      fill: #D2E3FC;\n",
              "    }\n",
              "\n",
              "    [theme=dark] .colab-df-convert:hover {\n",
              "      background-color: #434B5C;\n",
              "      box-shadow: 0px 1px 3px 1px rgba(0, 0, 0, 0.15);\n",
              "      filter: drop-shadow(0px 1px 2px rgba(0, 0, 0, 0.3));\n",
              "      fill: #FFFFFF;\n",
              "    }\n",
              "  </style>\n",
              "\n",
              "    <script>\n",
              "      const buttonEl =\n",
              "        document.querySelector('#df-a9728e13-a0ad-4a93-849b-9b6426378fe8 button.colab-df-convert');\n",
              "      buttonEl.style.display =\n",
              "        google.colab.kernel.accessAllowed ? 'block' : 'none';\n",
              "\n",
              "      async function convertToInteractive(key) {\n",
              "        const element = document.querySelector('#df-a9728e13-a0ad-4a93-849b-9b6426378fe8');\n",
              "        const dataTable =\n",
              "          await google.colab.kernel.invokeFunction('convertToInteractive',\n",
              "                                                    [key], {});\n",
              "        if (!dataTable) return;\n",
              "\n",
              "        const docLinkHtml = 'Like what you see? Visit the ' +\n",
              "          '<a target=\"_blank\" href=https://colab.research.google.com/notebooks/data_table.ipynb>data table notebook</a>'\n",
              "          + ' to learn more about interactive tables.';\n",
              "        element.innerHTML = '';\n",
              "        dataTable['output_type'] = 'display_data';\n",
              "        await google.colab.output.renderOutput(dataTable, element);\n",
              "        const docLink = document.createElement('div');\n",
              "        docLink.innerHTML = docLinkHtml;\n",
              "        element.appendChild(docLink);\n",
              "      }\n",
              "    </script>\n",
              "  </div>\n",
              "\n",
              "\n",
              "<div id=\"df-b35d1618-2744-4022-a78f-fad778f56945\">\n",
              "  <button class=\"colab-df-quickchart\" onclick=\"quickchart('df-b35d1618-2744-4022-a78f-fad778f56945')\"\n",
              "            title=\"Suggest charts\"\n",
              "            style=\"display:none;\">\n",
              "\n",
              "<svg xmlns=\"http://www.w3.org/2000/svg\" height=\"24px\"viewBox=\"0 0 24 24\"\n",
              "     width=\"24px\">\n",
              "    <g>\n",
              "        <path d=\"M19 3H5c-1.1 0-2 .9-2 2v14c0 1.1.9 2 2 2h14c1.1 0 2-.9 2-2V5c0-1.1-.9-2-2-2zM9 17H7v-7h2v7zm4 0h-2V7h2v10zm4 0h-2v-4h2v4z\"/>\n",
              "    </g>\n",
              "</svg>\n",
              "  </button>\n",
              "\n",
              "<style>\n",
              "  .colab-df-quickchart {\n",
              "      --bg-color: #E8F0FE;\n",
              "      --fill-color: #1967D2;\n",
              "      --hover-bg-color: #E2EBFA;\n",
              "      --hover-fill-color: #174EA6;\n",
              "      --disabled-fill-color: #AAA;\n",
              "      --disabled-bg-color: #DDD;\n",
              "  }\n",
              "\n",
              "  [theme=dark] .colab-df-quickchart {\n",
              "      --bg-color: #3B4455;\n",
              "      --fill-color: #D2E3FC;\n",
              "      --hover-bg-color: #434B5C;\n",
              "      --hover-fill-color: #FFFFFF;\n",
              "      --disabled-bg-color: #3B4455;\n",
              "      --disabled-fill-color: #666;\n",
              "  }\n",
              "\n",
              "  .colab-df-quickchart {\n",
              "    background-color: var(--bg-color);\n",
              "    border: none;\n",
              "    border-radius: 50%;\n",
              "    cursor: pointer;\n",
              "    display: none;\n",
              "    fill: var(--fill-color);\n",
              "    height: 32px;\n",
              "    padding: 0;\n",
              "    width: 32px;\n",
              "  }\n",
              "\n",
              "  .colab-df-quickchart:hover {\n",
              "    background-color: var(--hover-bg-color);\n",
              "    box-shadow: 0 1px 2px rgba(60, 64, 67, 0.3), 0 1px 3px 1px rgba(60, 64, 67, 0.15);\n",
              "    fill: var(--button-hover-fill-color);\n",
              "  }\n",
              "\n",
              "  .colab-df-quickchart-complete:disabled,\n",
              "  .colab-df-quickchart-complete:disabled:hover {\n",
              "    background-color: var(--disabled-bg-color);\n",
              "    fill: var(--disabled-fill-color);\n",
              "    box-shadow: none;\n",
              "  }\n",
              "\n",
              "  .colab-df-spinner {\n",
              "    border: 2px solid var(--fill-color);\n",
              "    border-color: transparent;\n",
              "    border-bottom-color: var(--fill-color);\n",
              "    animation:\n",
              "      spin 1s steps(1) infinite;\n",
              "  }\n",
              "\n",
              "  @keyframes spin {\n",
              "    0% {\n",
              "      border-color: transparent;\n",
              "      border-bottom-color: var(--fill-color);\n",
              "      border-left-color: var(--fill-color);\n",
              "    }\n",
              "    20% {\n",
              "      border-color: transparent;\n",
              "      border-left-color: var(--fill-color);\n",
              "      border-top-color: var(--fill-color);\n",
              "    }\n",
              "    30% {\n",
              "      border-color: transparent;\n",
              "      border-left-color: var(--fill-color);\n",
              "      border-top-color: var(--fill-color);\n",
              "      border-right-color: var(--fill-color);\n",
              "    }\n",
              "    40% {\n",
              "      border-color: transparent;\n",
              "      border-right-color: var(--fill-color);\n",
              "      border-top-color: var(--fill-color);\n",
              "    }\n",
              "    60% {\n",
              "      border-color: transparent;\n",
              "      border-right-color: var(--fill-color);\n",
              "    }\n",
              "    80% {\n",
              "      border-color: transparent;\n",
              "      border-right-color: var(--fill-color);\n",
              "      border-bottom-color: var(--fill-color);\n",
              "    }\n",
              "    90% {\n",
              "      border-color: transparent;\n",
              "      border-bottom-color: var(--fill-color);\n",
              "    }\n",
              "  }\n",
              "</style>\n",
              "\n",
              "  <script>\n",
              "    async function quickchart(key) {\n",
              "      const quickchartButtonEl =\n",
              "        document.querySelector('#' + key + ' button');\n",
              "      quickchartButtonEl.disabled = true;  // To prevent multiple clicks.\n",
              "      quickchartButtonEl.classList.add('colab-df-spinner');\n",
              "      try {\n",
              "        const charts = await google.colab.kernel.invokeFunction(\n",
              "            'suggestCharts', [key], {});\n",
              "      } catch (error) {\n",
              "        console.error('Error during call to suggestCharts:', error);\n",
              "      }\n",
              "      quickchartButtonEl.classList.remove('colab-df-spinner');\n",
              "      quickchartButtonEl.classList.add('colab-df-quickchart-complete');\n",
              "    }\n",
              "    (() => {\n",
              "      let quickchartButtonEl =\n",
              "        document.querySelector('#df-b35d1618-2744-4022-a78f-fad778f56945 button');\n",
              "      quickchartButtonEl.style.display =\n",
              "        google.colab.kernel.accessAllowed ? 'block' : 'none';\n",
              "    })();\n",
              "  </script>\n",
              "</div>\n",
              "\n",
              "    </div>\n",
              "  </div>\n"
            ],
            "text/plain": [
              "   Time        V1        V2        V3        V4        V5        V6        V7  \\\n",
              "0   0.0 -1.359807 -0.072781  2.536347  1.378155 -0.338321  0.462388  0.239599   \n",
              "1   0.0  1.191857  0.266151  0.166480  0.448154  0.060018 -0.082361 -0.078803   \n",
              "2   1.0 -1.358354 -1.340163  1.773209  0.379780 -0.503198  1.800499  0.791461   \n",
              "3   1.0 -0.966272 -0.185226  1.792993 -0.863291 -0.010309  1.247203  0.237609   \n",
              "4   2.0 -1.158233  0.877737  1.548718  0.403034 -0.407193  0.095921  0.592941   \n",
              "\n",
              "         V8        V9  ...       V21       V22       V23       V24       V25  \\\n",
              "0  0.098698  0.363787  ... -0.018307  0.277838 -0.110474  0.066928  0.128539   \n",
              "1  0.085102 -0.255425  ... -0.225775 -0.638672  0.101288 -0.339846  0.167170   \n",
              "2  0.247676 -1.514654  ...  0.247998  0.771679  0.909412 -0.689281 -0.327642   \n",
              "3  0.377436 -1.387024  ... -0.108300  0.005274 -0.190321 -1.175575  0.647376   \n",
              "4 -0.270533  0.817739  ... -0.009431  0.798278 -0.137458  0.141267 -0.206010   \n",
              "\n",
              "        V26       V27       V28  Amount  Class  \n",
              "0 -0.189115  0.133558 -0.021053  149.62      0  \n",
              "1  0.125895 -0.008983  0.014724    2.69      0  \n",
              "2 -0.139097 -0.055353 -0.059752  378.66      0  \n",
              "3 -0.221929  0.062723  0.061458  123.50      0  \n",
              "4  0.502292  0.219422  0.215153   69.99      0  \n",
              "\n",
              "[5 rows x 31 columns]"
            ]
          },
          "execution_count": 53,
          "metadata": {},
          "output_type": "execute_result"
        }
      ],
      "source": [
        "data.head()"
      ]
    },
    {
      "cell_type": "code",
      "execution_count": 8,
      "id": "vkZ4dG6LXsF7",
      "metadata": {
        "id": "vkZ4dG6LXsF7"
      },
      "outputs": [],
      "source": [
        "data_transformed = data.copy()"
      ]
    },
    {
      "cell_type": "code",
      "execution_count": 9,
      "id": "CjpCrCGONCnV",
      "metadata": {
        "id": "CjpCrCGONCnV"
      },
      "outputs": [],
      "source": [
        "scaler = StandardScaler()\n",
        "data_transformed.iloc[:, :-1] = scaler.fit_transform(data_transformed.iloc[:, :-1])\n"
      ]
    },
    {
      "cell_type": "code",
      "execution_count": 10,
      "id": "3jDyzeTLZu1i",
      "metadata": {
        "id": "3jDyzeTLZu1i"
      },
      "outputs": [],
      "source": [
        "normal_data = data_transformed[data_transformed['Class'] == 0].drop(['Time','Class'], axis=1)  # Drop label column for training\n",
        "anomalous_data = data_transformed[data_transformed['Class'] == 1].drop(['Time','Class'], axis=1)  # Drop label column for testing\n",
        "\n",
        "# Train-test split for normal data (only for training)\n",
        "X_train, X_test = train_test_split(normal_data, test_size=0.1, random_state=42)\n",
        "\n",
        "# For testing, keep both normal and anomalous data\n",
        "X_test = pd.concat([X_test, anomalous_data])\n",
        "\n",
        "# You can also create labels for the test set (0 = normal, 1 = anomaly)\n",
        "y_test = pd.concat([pd.Series([0] * len(X_test), name='Class'),\n",
        "                    pd.Series([1] * len(anomalous_data), name='Class')])"
      ]
    },
    {
      "cell_type": "code",
      "execution_count": 12,
      "id": "NwWyLLwRaAf9",
      "metadata": {
        "colab": {
          "base_uri": "https://localhost:8080/"
        },
        "id": "NwWyLLwRaAf9",
        "outputId": "0bc923d4-915d-4a8a-e7e7-e3fc59605fbe"
      },
      "outputs": [
        {
          "data": {
            "text/plain": [
              "(28924, 29)"
            ]
          },
          "execution_count": 12,
          "metadata": {},
          "output_type": "execute_result"
        }
      ],
      "source": [
        "X_test.shape"
      ]
    },
    {
      "cell_type": "code",
      "execution_count": 13,
      "id": "0mZfZh3KYqw4",
      "metadata": {
        "colab": {
          "base_uri": "https://localhost:8080/"
        },
        "id": "0mZfZh3KYqw4",
        "outputId": "44caf1d0-c667-4933-9a8e-8112def907e8"
      },
      "outputs": [
        {
          "data": {
            "text/plain": [
              "(255883, 29)"
            ]
          },
          "execution_count": 13,
          "metadata": {},
          "output_type": "execute_result"
        }
      ],
      "source": [
        "X_train.shape"
      ]
    },
    {
      "cell_type": "code",
      "execution_count": 14,
      "id": "186af23a",
      "metadata": {
        "colab": {
          "base_uri": "https://localhost:8080/",
          "height": 739
        },
        "id": "186af23a",
        "outputId": "90d86caa-0a35-40ff-c878-6c926abb30af"
      },
      "outputs": [
        {
          "data": {
            "image/png": "[encoded data removed]",
            "text/plain": [
              "<Figure size 1200x800 with 2 Axes>"
            ]
          },
          "metadata": {},
          "output_type": "display_data"
        }
      ],
      "source": [
        "# Calculate the correlation matrix\n",
        "corr_matrix = data.corr()\n",
        "\n",
        "plt.figure(figsize=(12, 8))\n",
        "sns.heatmap(corr_matrix, cmap='coolwarm', annot=False)\n",
        "plt.title('Feature Correlation Matrix')\n",
        "plt.show()\n"
      ]
    },
    {
      "cell_type": "code",
      "execution_count": 19,
      "id": "20980838",
      "metadata": {
        "id": "20980838"
      },
      "outputs": [],
      "source": [
        "X_train_tensor = torch.tensor(X_train.values, dtype = torch.float32)\n",
        "X_test_tensor = torch.tensor(X_test.values, dtype = torch.float32)"
      ]
    },
    {
      "cell_type": "code",
      "execution_count": 20,
      "id": "5ce9597f",
      "metadata": {
        "id": "5ce9597f"
      },
      "outputs": [],
      "source": [
        "class Autoencoder(nn.Module):\n",
        "    def __init__(self, input_size, code_size):\n",
        "        super().__init__()\n",
        "        self.enc_container = nn.Sequential(\n",
        "                                nn.Linear(input_size, 20),\n",
        "                                nn.LeakyReLU(),\n",
        "                                nn.Linear(20, 32),\n",
        "                                nn.LeakyReLU(),\n",
        "                                nn.Linear(32, 16),\n",
        "                                nn.LeakyReLU(),\n",
        "                                nn.Linear(16, code_size))\n",
        "        self.dec_container = nn.Sequential(\n",
        "                                nn.Linear(code_size, 16),\n",
        "                                nn.LeakyReLU(),\n",
        "                                nn.Linear(16, 32),\n",
        "                                nn.LeakyReLU(),\n",
        "                                nn.Linear(32, 20),\n",
        "                                nn.LeakyReLU(),\n",
        "                                nn.Linear(20, input_size))\n",
        "    def forward(self,x):\n",
        "        x = self.enc_container(x)\n",
        "        x = self.dec_container(x)\n",
        "        return x"
      ]
    },
    {
      "cell_type": "code",
      "execution_count": 21,
      "id": "0480b174",
      "metadata": {
        "colab": {
          "base_uri": "https://localhost:8080/"
        },
        "id": "0480b174",
        "outputId": "3dd447f6-84fa-4fe4-84cf-b1492581017f"
      },
      "outputs": [
        {
          "data": {
            "text/plain": [
              "(255883, 29)"
            ]
          },
          "execution_count": 21,
          "metadata": {},
          "output_type": "execute_result"
        }
      ],
      "source": [
        "X_train.shape"
      ]
    },
    {
      "cell_type": "code",
      "execution_count": 22,
      "id": "1b7fd841",
      "metadata": {
        "id": "1b7fd841"
      },
      "outputs": [],
      "source": [
        "input_size = X_train.shape[1]"
      ]
    },
    {
      "cell_type": "code",
      "execution_count": 23,
      "id": "301308af",
      "metadata": {
        "id": "301308af"
      },
      "outputs": [],
      "source": [
        "code_size = 8\n",
        "learning_rate = 5e-5\n",
        "batch_size = 32\n",
        "num_epochs = 100"
      ]
    },
    {
      "cell_type": "code",
      "execution_count": 24,
      "id": "5a276ade",
      "metadata": {
        "id": "5a276ade"
      },
      "outputs": [],
      "source": [
        "train_dataset = TensorDataset(X_train_tensor, X_train_tensor)\n",
        "train_loader = DataLoader(train_dataset, batch_size=batch_size, shuffle=True)"
      ]
    },
    {
      "cell_type": "code",
      "execution_count": 25,
      "id": "d109bf4c",
      "metadata": {
        "id": "d109bf4c"
      },
      "outputs": [],
      "source": [
        "# data"
      ]
    },
    {
      "cell_type": "markdown",
      "id": "189bfd05",
      "metadata": {
        "id": "189bfd05"
      },
      "source": [
        "This is used to make our dataset suitable for training. The TensorDataset is used to make the (input,output) combinations and the DataLoader is used to send the data in batches for efficient and fast training."
      ]
    },
    {
      "cell_type": "code",
      "execution_count": 26,
      "id": "60a371f3",
      "metadata": {
        "id": "60a371f3"
      },
      "outputs": [],
      "source": [
        "model = Autoencoder(input_size, code_size)"
      ]
    },
    {
      "cell_type": "code",
      "execution_count": 27,
      "id": "c2b14e31",
      "metadata": {
        "id": "c2b14e31"
      },
      "outputs": [],
      "source": [
        "criterion = nn.MSELoss()\n",
        "optimizer = optim.Adam(model.parameters(), lr=learning_rate)"
      ]
    },
    {
      "cell_type": "code",
      "execution_count": 28,
      "id": "tWWurD0VeX83",
      "metadata": {
        "id": "tWWurD0VeX83"
      },
      "outputs": [],
      "source": [
        "wandb.log({\"learning_rate\": learning_rate})"
      ]
    },
    {
      "cell_type": "code",
      "execution_count": 29,
      "id": "33f68d17",
      "metadata": {
        "colab": {
          "base_uri": "https://localhost:8080/"
        },
        "id": "33f68d17",
        "outputId": "0f00aaca-5a13-4fd5-c361-fe5d27e6af36"
      },
      "outputs": [
        {
          "name": "stdout",
          "output_type": "stream",
          "text": [
            "Epoch 1: 0.6886602640151978\n",
            "Epoch 2: 0.6268105506896973\n",
            "Epoch 3: 0.4022431969642639\n",
            "Epoch 4: 0.39698874950408936\n",
            "Epoch 5: 0.5582209825515747\n",
            "Epoch 6: 0.36405235528945923\n",
            "Epoch 7: 0.5221631526947021\n",
            "Epoch 8: 0.5558989644050598\n",
            "Epoch 9: 0.5161242485046387\n",
            "Epoch 10: 0.4282233715057373\n",
            "Epoch 11: 0.6757853627204895\n",
            "Epoch 12: 0.793635368347168\n",
            "Epoch 13: 0.4163261651992798\n",
            "Epoch 14: 0.6460270881652832\n",
            "Epoch 15: 0.3181757926940918\n",
            "Epoch 16: 0.4393191337585449\n",
            "Epoch 17: 0.6320169568061829\n",
            "Epoch 18: 0.9565416574478149\n",
            "Epoch 19: 0.3499835729598999\n",
            "Epoch 20: 0.47896870970726013\n",
            "Epoch 21: 1.1559925079345703\n",
            "Epoch 22: 0.37248745560646057\n",
            "Epoch 23: 0.3562227785587311\n",
            "Epoch 24: 0.44804468750953674\n",
            "Epoch 25: 0.4192756116390228\n",
            "Epoch 26: 0.43613871932029724\n",
            "Epoch 27: 0.37755247950553894\n",
            "Epoch 28: 0.3331435024738312\n",
            "Epoch 29: 0.37488874793052673\n",
            "Epoch 30: 0.5872312188148499\n",
            "Epoch 31: 0.3585781753063202\n",
            "Epoch 32: 0.38057956099510193\n",
            "Epoch 33: 0.4078481197357178\n",
            "Epoch 34: 0.48117324709892273\n",
            "Epoch 35: 0.2902824282646179\n",
            "Epoch 36: 0.5097815990447998\n",
            "Epoch 37: 0.3561379015445709\n",
            "Epoch 38: 0.6578994393348694\n",
            "Epoch 39: 0.4334567189216614\n",
            "Epoch 40: 0.30189409852027893\n",
            "Epoch 41: 0.22274000942707062\n",
            "Epoch 42: 0.361765593290329\n",
            "Epoch 43: 0.2543085217475891\n",
            "Epoch 44: 0.44046321511268616\n",
            "Epoch 45: 0.28918349742889404\n",
            "Epoch 46: 0.387611448764801\n",
            "Epoch 47: 0.3161497116088867\n",
            "Epoch 48: 0.41304096579551697\n",
            "Epoch 49: 0.3868071436882019\n",
            "Epoch 50: 0.29047343134880066\n",
            "Epoch 51: 0.594851553440094\n",
            "Epoch 52: 0.3504519462585449\n",
            "Epoch 53: 0.41315576434135437\n",
            "Epoch 54: 0.4367519021034241\n",
            "Epoch 55: 0.2533074915409088\n",
            "Epoch 56: 0.38367554545402527\n",
            "Epoch 57: 0.30726873874664307\n",
            "Epoch 58: 0.21619805693626404\n",
            "Epoch 59: 0.4174954295158386\n",
            "Epoch 60: 0.4634563624858856\n",
            "Epoch 61: 0.36181363463401794\n",
            "Epoch 62: 0.3616607189178467\n",
            "Epoch 63: 0.5103459358215332\n",
            "Epoch 64: 0.36516112089157104\n",
            "Epoch 65: 0.4540799856185913\n",
            "Epoch 66: 0.2661800682544708\n",
            "Epoch 67: 0.2563415467739105\n",
            "Epoch 68: 0.441813200712204\n",
            "Epoch 69: 0.279246985912323\n",
            "Epoch 70: 1.1024200916290283\n",
            "Epoch 71: 0.2594990134239197\n",
            "Epoch 72: 0.25695329904556274\n",
            "Epoch 73: 0.27641719579696655\n",
            "Epoch 74: 0.30645501613616943\n",
            "Epoch 75: 0.29366549849510193\n",
            "Epoch 76: 0.2867538630962372\n",
            "Epoch 77: 0.3065977990627289\n",
            "Epoch 78: 0.5078505277633667\n",
            "Epoch 79: 0.39213958382606506\n",
            "Epoch 80: 0.31934571266174316\n",
            "Epoch 81: 0.3133243918418884\n",
            "Epoch 82: 0.4123608469963074\n",
            "Epoch 83: 0.2898062765598297\n",
            "Epoch 84: 0.2664503753185272\n",
            "Epoch 85: 0.29268527030944824\n",
            "Epoch 86: 0.16249333322048187\n",
            "Epoch 87: 1.219490885734558\n",
            "Epoch 88: 0.40740087628364563\n",
            "Epoch 89: 0.4116835594177246\n",
            "Epoch 90: 0.29472967982292175\n",
            "Epoch 91: 0.32325103878974915\n",
            "Epoch 92: 0.20773270726203918\n",
            "Epoch 93: 0.2933235168457031\n",
            "Epoch 94: 0.18092046678066254\n",
            "Epoch 95: 0.3763613700866699\n",
            "Epoch 96: 0.47169920802116394\n",
            "Epoch 97: 0.3489522635936737\n",
            "Epoch 98: 0.2615342140197754\n",
            "Epoch 99: 0.2090722918510437\n",
            "Epoch 100: 0.2769344747066498\n"
          ]
        }
      ],
      "source": [
        "losses = []\n",
        "for epoch in range(num_epochs):\n",
        "    for train_data in train_loader:\n",
        "        inputs, _ = train_data\n",
        "        optimizer.zero_grad()\n",
        "        outputs = model(inputs)\n",
        "        loss = criterion(outputs, inputs)\n",
        "        loss.backward()\n",
        "        optimizer.step()\n",
        "    losses.append(loss)\n",
        "    print(f'Epoch {epoch+1}: {loss}')\n",
        "    wandb.log({\"train_loss\": loss})"
      ]
    },
    {
      "cell_type": "code",
      "execution_count": 30,
      "id": "edac10bf",
      "metadata": {
        "id": "edac10bf"
      },
      "outputs": [],
      "source": [
        "losses = [loss.detach().numpy() for loss in losses]"
      ]
    },
    {
      "cell_type": "code",
      "execution_count": 33,
      "id": "e66358fb",
      "metadata": {
        "colab": {
          "base_uri": "https://localhost:8080/",
          "height": 472
        },
        "id": "e66358fb",
        "outputId": "d81fb916-4cfa-49f0-bf90-d1f346f611e5"
      },
      "outputs": [
        {
          "data": {
            "image/png": "[encoded data removed]",
            "text/plain": [
              "<Figure size 640x480 with 1 Axes>"
            ]
          },
          "metadata": {},
          "output_type": "display_data"
        }
      ],
      "source": [
        "plt.hist(losses, bins=50, density=True, alpha=0.75)\n",
        "plt.title('Distribution of Reconstruction Errors')\n",
        "plt.xlabel('Reconstruction Error')\n",
        "plt.ylabel('Density')\n",
        "plt.show()\n"
      ]
    },
    {
      "cell_type": "code",
      "execution_count": 72,
      "id": "e09f0263",
      "metadata": {
        "id": "e09f0263"
      },
      "outputs": [],
      "source": [
        "#Deciding threshold based on percentile of the errors\n",
        "threshold = np.percentile(losses, 99.999)"
      ]
    },
    {
      "cell_type": "code",
      "execution_count": 73,
      "id": "7u186S4GwDFE",
      "metadata": {
        "colab": {
          "base_uri": "https://localhost:8080/"
        },
        "id": "7u186S4GwDFE",
        "outputId": "bbea365b-0904-4e61-cba1-674a15c7b550"
      },
      "outputs": [
        {
          "data": {
            "text/plain": [
              "1.219428022340536"
            ]
          },
          "execution_count": 73,
          "metadata": {},
          "output_type": "execute_result"
        }
      ],
      "source": [
        "threshold"
      ]
    },
    {
      "cell_type": "code",
      "execution_count": 82,
      "id": "2c1bf13e",
      "metadata": {
        "id": "2c1bf13e"
      },
      "outputs": [],
      "source": [
        "threshold = 2"
      ]
    },
    {
      "cell_type": "code",
      "execution_count": 83,
      "id": "9a3a38c1",
      "metadata": {
        "colab": {
          "base_uri": "https://localhost:8080/"
        },
        "id": "9a3a38c1",
        "outputId": "2eb3e804-3a43-46dd-bd5a-1289863cc730"
      },
      "outputs": [
        {
          "name": "stdout",
          "output_type": "stream",
          "text": [
            "tensor([[ 0.6791,  0.1260, -0.5098,  ...,  0.0079,  0.2201, -0.2839],\n",
            "        [-0.7462,  0.4134,  0.7841,  ..., -0.9063, -0.4841, -0.2329],\n",
            "        [-0.3562, -0.6384,  1.1150,  ..., -0.0019,  0.1025, -0.1611],\n",
            "        ...,\n",
            "        [-0.0823,  0.3364, -0.0897,  ...,  0.3593,  0.2924,  0.2231],\n",
            "        [ 0.1214,  0.3510, -0.3529,  ...,  0.6207,  0.6029,  0.7119],\n",
            "        [ 0.9388,  0.0281, -1.5592,  ..., -0.1360,  0.0081, -0.2365]])\n",
            "Test Loss: 0.6801210641860962\n"
          ]
        }
      ],
      "source": [
        "with torch.no_grad():\n",
        "    test_outputs = model(X_test_tensor)\n",
        "    print(test_outputs)\n",
        "    test_loss = criterion(test_outputs, X_test_tensor)\n",
        "    print(f'Test Loss: {test_loss}')"
      ]
    },
    {
      "cell_type": "code",
      "execution_count": 84,
      "id": "fe2a90e7",
      "metadata": {
        "id": "fe2a90e7"
      },
      "outputs": [],
      "source": [
        "anomalies = np.sum(np.square(test_outputs.numpy() - X_test_tensor.numpy()), axis=1)/input_size\n",
        "predicted_labels = (anomalies > threshold).astype(int)"
      ]
    },
    {
      "cell_type": "code",
      "execution_count": 85,
      "id": "b5e75d6a",
      "metadata": {
        "id": "b5e75d6a"
      },
      "outputs": [],
      "source": [
        "test_indices = X_test.index"
      ]
    },
    {
      "cell_type": "code",
      "execution_count": 86,
      "id": "87c9aff9",
      "metadata": {
        "id": "87c9aff9"
      },
      "outputs": [],
      "source": [
        "true_labels = data.loc[test_indices, 'Class'].values"
      ]
    },
    {
      "cell_type": "markdown",
      "id": "9f523495",
      "metadata": {},
      "source": [
        "### Test Data"
      ]
    },
    {
      "cell_type": "code",
      "execution_count": 87,
      "id": "511314ca",
      "metadata": {
        "colab": {
          "base_uri": "https://localhost:8080/",
          "height": 472
        },
        "id": "511314ca",
        "outputId": "3d5d0e7e-d9a3-4ab8-c88a-4f256cdc0357"
      },
      "outputs": [
        {
          "data": {
            "image/png": "[encoded data removed]",
            "text/plain": [
              "<Figure size 640x480 with 1 Axes>"
            ]
          },
          "metadata": {},
          "output_type": "display_data"
        }
      ],
      "source": [
        "from sklearn.metrics import confusion_matrix\n",
        "\n",
        "# Confusion matrix\n",
        "cm = confusion_matrix(true_labels, predicted_labels)\n",
        "\n",
        "sns.heatmap(cm, annot=True, fmt='d', cmap='Blues', cbar=False,\n",
        "            xticklabels=['Normal', 'Fraud'], yticklabels=['Normal', 'Fraud'])\n",
        "plt.title('Confusion Matrix')\n",
        "plt.xlabel('Predicted')\n",
        "plt.ylabel('True')\n",
        "plt.show()"
      ]
    },
    {
      "cell_type": "code",
      "execution_count": 88,
      "id": "xzqDrvU4wy0r",
      "metadata": {
        "colab": {
          "base_uri": "https://localhost:8080/"
        },
        "id": "xzqDrvU4wy0r",
        "outputId": "ad796cb5-42d4-4486-9c7c-56a9daf3b5fa"
      },
      "outputs": [
        {
          "data": {
            "text/plain": [
              "(28122, 310, 84, 408)"
            ]
          },
          "execution_count": 88,
          "metadata": {},
          "output_type": "execute_result"
        }
      ],
      "source": [
        "TN, FP = cm[0, 0], cm[0, 1]  # First row: TN and FP\n",
        "FN, TP = cm[1, 0], cm[1, 1]  # Second row: FN and TP\n",
        "\n",
        "TN, FP, FN, TP"
      ]
    },
    {
      "cell_type": "code",
      "execution_count": 89,
      "id": "4Y1F_XARxwgP",
      "metadata": {
        "colab": {
          "base_uri": "https://localhost:8080/"
        },
        "id": "4Y1F_XARxwgP",
        "outputId": "772d3ac7-e7f5-4d5f-ce52-8ee540deaaa0"
      },
      "outputs": [
        {
          "name": "stdout",
          "output_type": "stream",
          "text": [
            "Accuracy: 0.99\n",
            "Precision: 0.57\n",
            "Recall: 0.83\n",
            "F1 Score: 0.67\n"
          ]
        }
      ],
      "source": [
        "accuracy = (TP + TN) / (TP + TN + FP + FN)\n",
        "precision = TP / (TP + FP) if (TP + FP) > 0 else 0\n",
        "recall = TP / (TP + FN) if (TP + FN) > 0 else 0\n",
        "f1_score = 2 * (precision * recall) / (precision + recall) if (precision + recall) > 0 else 0\n",
        "\n",
        "print(f\"Accuracy: {accuracy:.2f}\")\n",
        "print(f\"Precision: {precision:.2f}\")\n",
        "print(f\"Recall: {recall:.2f}\")\n",
        "print(f\"F1 Score: {f1_score:.2f}\")"
      ]
    },
    {
      "cell_type": "code",
      "execution_count": null,
      "id": "kkTHLfSVx30u",
      "metadata": {
        "id": "kkTHLfSVx30u"
      },
      "outputs": [],
      "source": []
    }
  ],
  "metadata": {
    "accelerator": "GPU",
    "colab": {
      "gpuType": "T4",
      "provenance": []
    },
    "kernelspec": {
      "display_name": "Python 3",
      "name": "python3"
    },
    "language_info": {
      "codemirror_mode": {
        "name": "ipython",
        "version": 3
      },
      "file_extension": ".py",
      "mimetype": "text/x-python",
      "name": "python",
      "nbconvert_exporter": "python",
      "pygments_lexer": "ipython3",
      "version": "3.10.2"
    }
  },
  "nbformat": 4,
  "nbformat_minor": 5
}
